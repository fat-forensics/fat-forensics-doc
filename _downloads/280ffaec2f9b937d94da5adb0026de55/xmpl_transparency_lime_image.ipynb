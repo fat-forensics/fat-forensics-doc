{
  "cells": [
    {
      "cell_type": "code",
      "execution_count": null,
      "metadata": {
        "collapsed": false
      },
      "outputs": [],
      "source": [
        "%matplotlib inline"
      ]
    },
    {
      "cell_type": "markdown",
      "metadata": {},
      "source": [
        "\n# Using LIME Image Explainer\n\n\nThis example illustrates how to use the LIME image explainer to explain a\nprediction.\n\nThis example shows how to use the image LIME implementation --\n:class:`fatf.transparency.predictions.surrogate_image_explainers.ImageBlimeyLime`\n-- to explain a prediction of a black-box probabilistic model.\n"
      ]
    },
    {
      "cell_type": "code",
      "execution_count": null,
      "metadata": {
        "collapsed": false
      },
      "outputs": [],
      "source": [
        "# Author: Kacper Sokol <k.sokol@bristol.ac.uk>\n# License: new BSD\n\nfrom pprint import pprint\n\nimport matplotlib.pyplot as plt\nimport numpy as np\n\nimport fatf\n\nimport fatf.utils.models as fatf_models\n\nimport fatf.transparency.predictions.surrogate_image_explainers as fatf_exp\n\nimport fatf.vis.lime as fatf_vis_lime\n\nprint(__doc__)\n\n# Fix random seed\nfatf.setup_random_seed(42)\n\n# Create a simple data set\nr, g, b, k = [255, 0, 0], [0, 255, 0], [0, 0, 255], [0, 0, 0]\nX = np.array(\n    [\n        [[r, g], [b, k]],\n        [[r, b], [g, k]],\n        [[r, k], [b, g]],\n        [[k, g], [b, r]],\n        [[k, b], [g, r]],\n        [[g, k], [b, r]]\n    ],\n    dtype=np.uint8\n)\ny = np.array([0, 0, 0, 1, 1, 1])\n\nfeature_names = {\n  'Segment #1': 'top-left',\n  'Segment #2': 'top-right',\n  'Segment #3': 'bottom-left',\n  'Segment #4': 'bottom-right'\n}\nclass_names = {0: 'top-left-red', 1: 'bottom-right-red'}\n\n# Create a model that operates of 3-D images\nclass KNNimg(fatf_models.KNN):\n    def fit(self, X, y):\n        X_r_flat = np.array([i[:, :, 0].flatten() for i in X], dtype=np.uint8)\n        super().fit(X_r_flat, y)\n\n    def predict(self, X):\n        X_r_flat = np.array([i[:, :, 0].flatten() for i in X], dtype=np.uint8)\n        return super().predict(X_r_flat)\n\n    def predict_proba(self, X):\n        X_r_flat = np.array([i[:, :, 0].flatten() for i in X], dtype=np.uint8)\n        return super().predict_proba(X_r_flat)\n\n# Train a model\nclf = KNNimg(k=1)\nclf.fit(X, y)\n\n# Choose an instance to be explained\nimage = X[0]\nimage_class = 0\n\n# Display the instance\nplt.axis('off')\nplt.imshow(image)\n\n# Create a LIME image explainer\nlime = fatf_exp.ImageBlimeyLime(\n    image,\n    clf,\n    ratio=1,\n    kernel_size=1.05,\n    max_dist=10,\n    colour='random')\n\n# Explain an instance\nlime_explanation_ = lime.explain_instance(explained_class=image_class)\n\n# Remap the explanation\nlime_explanation = {feature_names[i]: j for i, j in lime_explanation_.items()}\n\n# Display the textual explanation\npprint(lime_explanation)\n\n# Plot the explanation\nfatf_vis_lime.plot_lime(lime_explanation)"
      ]
    }
  ],
  "metadata": {
    "kernelspec": {
      "display_name": "Python 3",
      "language": "python",
      "name": "python3"
    },
    "language_info": {
      "codemirror_mode": {
        "name": "ipython",
        "version": 3
      },
      "file_extension": ".py",
      "mimetype": "text/x-python",
      "name": "python",
      "nbconvert_exporter": "python",
      "pygments_lexer": "ipython3",
      "version": "3.7.2"
    }
  },
  "nbformat": 4,
  "nbformat_minor": 0
}