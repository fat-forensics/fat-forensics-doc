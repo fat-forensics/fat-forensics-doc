{
  "cells": [
    {
      "cell_type": "code",
      "execution_count": null,
      "metadata": {
        "collapsed": false
      },
      "outputs": [],
      "source": [
        "%matplotlib inline"
      ]
    },
    {
      "cell_type": "markdown",
      "metadata": {},
      "source": [
        "\n# Using a Surrogate Tree Explainer\n\n\nThis example illustrates how to use a tabular surrogate tree-based explainer\nto explain a prediction.\n\nThis example shows how to use the tabular surrogate tree-based explainer\nimplementation --\n:class:`fatf.transparency.predictions.surrogate_explainers.TabularBlimeyTree`\n-- to explain a prediction of a black-box probabilistic model.\n"
      ]
    },
    {
      "cell_type": "code",
      "execution_count": null,
      "metadata": {
        "collapsed": false
      },
      "outputs": [],
      "source": [
        "# Author: Kacper Sokol <k.sokol@bristol.ac.uk>\n# License: new BSD\n\nfrom pprint import pprint\n\nimport fatf\n\nimport fatf.utils.data.datasets as fatf_datasets\nimport fatf.utils.models as fatf_models\n\nimport fatf.transparency.predictions.surrogate_explainers as fatf_surrogates\n\nimport fatf.vis.lime as fatf_vis_lime\n\nprint(__doc__)\n\n# Fix random seed\nfatf.setup_random_seed(42)\n\n# Load data\niris_data_dict = fatf_datasets.load_iris()\niris_X = iris_data_dict['data']\niris_y = iris_data_dict['target']\niris_feature_names = iris_data_dict['feature_names'].tolist()\niris_class_names = iris_data_dict['target_names'].tolist()\n\n# Train a model\nclf = fatf_models.KNN()\nclf.fit(iris_X, iris_y)\n\n# Create a LIME explainer\ntree = fatf_surrogates.TabularBlimeyTree(\n    iris_X,\n    clf,\n    feature_names=iris_feature_names,\n    class_names=iris_class_names)\n\n# Choose an index of the instance to be explained\nindex_to_explain = 42\n\n# Explain an instance\ntree_explanation = tree.explain_instance(\n    iris_X[index_to_explain, :], samples_number=500)\n\n# Display the textual explanation\npprint(tree_explanation)\n\n# Plot the explanation\nfatf_vis_lime.plot_lime(tree_explanation)"
      ]
    }
  ],
  "metadata": {
    "kernelspec": {
      "display_name": "Python 3",
      "language": "python",
      "name": "python3"
    },
    "language_info": {
      "codemirror_mode": {
        "name": "ipython",
        "version": 3
      },
      "file_extension": ".py",
      "mimetype": "text/x-python",
      "name": "python",
      "nbconvert_exporter": "python",
      "pygments_lexer": "ipython3",
      "version": "3.7.13"
    }
  },
  "nbformat": 4,
  "nbformat_minor": 0
}