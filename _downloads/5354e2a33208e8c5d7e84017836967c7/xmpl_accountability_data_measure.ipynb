{
  "cells": [
    {
      "cell_type": "code",
      "execution_count": null,
      "metadata": {
        "collapsed": false
      },
      "outputs": [],
      "source": [
        "%matplotlib inline"
      ]
    },
    {
      "cell_type": "markdown",
      "metadata": {},
      "source": [
        "\n# Measuring Robustness of a Data Set -- Sampling Bias\n\n\nThis example illustrates how to identify Sampling Bias for a data set grouping\nfor a selected feature.\n\n"
      ]
    },
    {
      "cell_type": "code",
      "execution_count": null,
      "metadata": {
        "collapsed": false
      },
      "outputs": [],
      "source": [
        "# Author: Kacper Sokol <k.sokol@bristol.ac.uk>\n# License: new BSD\n\nimport fatf.utils.data.datasets as fatf_datasets\n\nimport fatf.accountability.data.measures as fatf_dam\n\nprint(__doc__)\n\n# Load data\niris_data_dict = fatf_datasets.load_iris()\niris_X = iris_data_dict['data']\niris_y = iris_data_dict['target'].astype(int)\niris_feature_names = iris_data_dict['feature_names']\niris_class_names = iris_data_dict['target_names']\n\n# Select a feature for which the Sampling Bias be measured\nselected_feature_index = 2\nselected_feature_name = iris_feature_names[selected_feature_index]\n\n# Define grouping on the selected feature\nselected_feature_grouping = [2.5, 4.75]\n\n# Get counts, weights and names of the specified grouping\ngrp_counts, grp_weights, grp_names = fatf_dam.sampling_bias(\n    iris_X, selected_feature_index, selected_feature_grouping)\n\n# Print out counts per group\nprint('The counts for groups defined on \"{}\" feature (index {}) are:'\n      ''.format(selected_feature_name, selected_feature_index))\nfor g_name, g_count in zip(grp_names, grp_counts):\n    is_are = 'is' if g_count == 1 else 'are'\n    print('    * For the population split *{}* there {}: '\n          '{} data points.'.format(g_name, is_are, g_count))\n\n# Get the disparity grid\nbias_grid = fatf_dam.sampling_bias_grid_check(grp_counts)\n\n# Print out disparity per every grouping pair\nprint('\\nThe Sampling Bias for *{}* feature (index {}) grouping is:'\n      ''.format(selected_feature_name, selected_feature_index))\nfor grouping_i, grouping_name_i in enumerate(grp_names):\n    j_offset = grouping_i + 1\n    for grouping_j, grouping_name_j in enumerate(grp_names[j_offset:]):\n        grouping_j += j_offset\n        is_not = '' if bias_grid[grouping_i, grouping_j] else ' no'\n\n        print('    * For \"{}\" and \"{}\" groupings there >is{}< Sampling Bias.'\n              ''.format(grouping_name_i, grouping_name_j, is_not))"
      ]
    }
  ],
  "metadata": {
    "kernelspec": {
      "display_name": "Python 3",
      "language": "python",
      "name": "python3"
    },
    "language_info": {
      "codemirror_mode": {
        "name": "ipython",
        "version": 3
      },
      "file_extension": ".py",
      "mimetype": "text/x-python",
      "name": "python",
      "nbconvert_exporter": "python",
      "pygments_lexer": "ipython3",
      "version": "3.6.7"
    }
  },
  "nbformat": 4,
  "nbformat_minor": 0
}