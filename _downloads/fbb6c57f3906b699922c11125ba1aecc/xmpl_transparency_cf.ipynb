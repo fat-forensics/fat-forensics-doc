{
  "cells": [
    {
      "cell_type": "code",
      "execution_count": null,
      "metadata": {
        "collapsed": false
      },
      "outputs": [],
      "source": [
        "%matplotlib inline"
      ]
    },
    {
      "cell_type": "markdown",
      "metadata": {},
      "source": [
        "\n# Using Counterfactual Prediction Explainer\n\n\nThis example illustrates how to use the Counterfactual Prediction explainer\n(:class:`fatf.transparency.predictions.counterfactuals.CounterfactualExplainer`) and how to interpret the 3-tuple that it returns by\n\"textualising\" it (:func:`fatf.transparency.predictions.counterfactuals.textualise_counterfactuals`).\n"
      ]
    },
    {
      "cell_type": "code",
      "execution_count": null,
      "metadata": {
        "collapsed": false
      },
      "outputs": [],
      "source": [
        "# Author: Kacper Sokol <k.sokol@bristol.ac.uk>\n# License: new BSD\n\nfrom pprint import pprint\nimport numpy as np\n\nimport fatf.utils.data.datasets as fatf_datasets\nimport fatf.utils.models as fatf_models\n\nimport fatf.transparency.predictions.counterfactuals as fatf_cf\n\nprint(__doc__)\n\n# Load data\niris_data_dict = fatf_datasets.load_iris()\niris_X = iris_data_dict['data']\niris_y = iris_data_dict['target'].astype(int)\niris_feature_names = iris_data_dict['feature_names']\niris_class_names = iris_data_dict['target_names']\n\n# Train a model\nclf = fatf_models.KNN()\nclf.fit(iris_X, iris_y)\n\n# Create a Counterfactual Explainer\ncf_explainer = fatf_cf.CounterfactualExplainer(\n    model=clf,\n    dataset=iris_X,\n    categorical_indices=[],\n    default_numerical_step_size=0.1)\n\n\ndef describe_data_point(data_point_index):\n    \"\"\"Prints out a data point with the specified given index.\"\"\"\n    dp_to_explain = iris_X[data_point_index, :]\n    dp_to_explain_class_index = int(iris_y[data_point_index])\n    dp_to_explain_class = iris_class_names[dp_to_explain_class_index]\n\n    feature_description_template = '    * {} (feature index {}): {:.1f}'\n    features_description = []\n    for i, name in enumerate(iris_feature_names):\n        dsc = feature_description_template.format(name, i, dp_to_explain[i])\n        features_description.append(dsc)\n    features_description = ',\\n'.join(features_description)\n\n    data_point_description = (\n        'Explaining data point (index {}) of class {} (class index {}) with '\n        'features:\\n{}.'.format(data_point_index, dp_to_explain_class,\n                                dp_to_explain_class_index,\n                                features_description))\n\n    print(data_point_description)"
      ]
    },
    {
      "cell_type": "markdown",
      "metadata": {},
      "source": [
        "Explain one of the data points.\n\n"
      ]
    },
    {
      "cell_type": "code",
      "execution_count": null,
      "metadata": {
        "collapsed": false
      },
      "outputs": [],
      "source": [
        "# Select a data point to be explained\ndp_1_index = 49\ndp_1_X = iris_X[dp_1_index, :]\ndp_1_y = iris_y[dp_1_index]\ndescribe_data_point(dp_1_index)\n\n# Get a Counterfactual Explanation tuple for this data point\ndp_1_cf_tuple = cf_explainer.explain_instance(dp_1_X)\ndp_1_cfs, dp_1_cfs_distances, dp_1_cfs_predictions = dp_1_cf_tuple\ndp_1_cfs_predictions_names = np.array(\n    [iris_class_names[i] for i in dp_1_cfs_predictions])\n\nprint('\\nCounterfactuals for the data point:')\npprint(dp_1_cfs)\nprint('\\nDistances between the counterfactuals and the data point:')\npprint(dp_1_cfs_distances)\nprint('\\nClasses (indices and class names) of the counterfactuals:')\npprint(dp_1_cfs_predictions)\npprint(dp_1_cfs_predictions_names)\n\n# Textualise the counterfactuals\ndp_1_cfs_text = fatf_cf.textualise_counterfactuals(\n    dp_1_X,\n    dp_1_cfs,\n    instance_class=dp_1_y,\n    counterfactuals_distances=dp_1_cfs_distances,\n    counterfactuals_predictions=dp_1_cfs_predictions)\nprint(dp_1_cfs_text)"
      ]
    },
    {
      "cell_type": "markdown",
      "metadata": {},
      "source": [
        "Explain another data point.\n\n"
      ]
    },
    {
      "cell_type": "code",
      "execution_count": null,
      "metadata": {
        "collapsed": false
      },
      "outputs": [],
      "source": [
        "# Select a data point to be explained\ndp_2_index = 99\ndp_2_X = iris_X[dp_2_index, :]\ndp_2_y = iris_y[dp_2_index]\ndescribe_data_point(dp_2_index)\n\n# Get a Counterfactual Explanation tuple for this data point\ndp_2_cf_tuple = cf_explainer.explain_instance(dp_2_X)\ndp_2_cfs, dp_2_cfs_distances, dp_2_cfs_predictions = dp_2_cf_tuple\ndp_2_cfs_predictions_names = np.array(\n    [iris_class_names[i] for i in dp_2_cfs_predictions])\n\nprint('\\nCounterfactuals for the data point:')\npprint(dp_2_cfs)\nprint('\\nDistances between the counterfactuals and the data point:')\npprint(dp_2_cfs_distances)\nprint('\\nClasses (indices and class names) of the counterfactuals:')\npprint(dp_2_cfs_predictions)\npprint(dp_2_cfs_predictions_names)\n\n# Textualise the counterfactuals\ndp_2_cfs_text = fatf_cf.textualise_counterfactuals(\n    dp_2_X,\n    dp_2_cfs,\n    instance_class=dp_2_y,\n    counterfactuals_distances=dp_2_cfs_distances,\n    counterfactuals_predictions=dp_2_cfs_predictions)\nprint(dp_2_cfs_text)"
      ]
    }
  ],
  "metadata": {
    "kernelspec": {
      "display_name": "Python 3",
      "language": "python",
      "name": "python3"
    },
    "language_info": {
      "codemirror_mode": {
        "name": "ipython",
        "version": 3
      },
      "file_extension": ".py",
      "mimetype": "text/x-python",
      "name": "python",
      "nbconvert_exporter": "python",
      "pygments_lexer": "ipython3",
      "version": "3.7.16"
    }
  },
  "nbformat": 4,
  "nbformat_minor": 0
}