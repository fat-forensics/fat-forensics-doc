{
  "cells": [
    {
      "cell_type": "code",
      "execution_count": null,
      "metadata": {
        "collapsed": false
      },
      "outputs": [],
      "source": [
        "%matplotlib inline"
      ]
    },
    {
      "cell_type": "markdown",
      "metadata": {},
      "source": [
        "\n# Using Data Description Explainer\n\n\nThis example illustrates how to use the Data Description to interpret a data\nset. (See the :mod:`fatf.transparency.data.describe_functions` module for more\ndetails.)\n"
      ]
    },
    {
      "cell_type": "code",
      "execution_count": null,
      "metadata": {
        "collapsed": false
      },
      "outputs": [],
      "source": [
        "# Author: Kacper Sokol <k.sokol@bristol.ac.uk>\n# License: new BSD\n\nfrom pprint import pprint\nimport numpy as np\n\nimport fatf.utils.data.datasets as fatf_datasets\n\nimport fatf.transparency.data.describe_functions as fatf_dd\n\nprint(__doc__)\n\n# Load data\niris_data_dict = fatf_datasets.load_iris()\niris_X = iris_data_dict['data']\niris_y = iris_data_dict['target'].astype(int)\niris_feature_names = iris_data_dict['feature_names']\niris_class_names = iris_data_dict['target_names']"
      ]
    },
    {
      "cell_type": "markdown",
      "metadata": {},
      "source": [
        "Start by describing all of the features in the data set.\n\n"
      ]
    },
    {
      "cell_type": "code",
      "execution_count": null,
      "metadata": {
        "collapsed": false
      },
      "outputs": [],
      "source": [
        "# Explain all of the features\nfeatures_description = fatf_dd.describe_array(iris_X)\n\n# Conver feature ids into feature names\nnamed_features_description = dict()\nfor fdi in features_description.items():\n    feature_id, feature_description = fdi\n    feature_name = iris_feature_names[feature_id]\n\n    named_features_description[feature_name] = feature_description\n\nprint('Data Description for each feature:')\npprint(named_features_description)"
      ]
    },
    {
      "cell_type": "markdown",
      "metadata": {},
      "source": [
        "Now describe the 'petal width (cm)' per class.\n\n"
      ]
    },
    {
      "cell_type": "code",
      "execution_count": null,
      "metadata": {
        "collapsed": false
      },
      "outputs": [],
      "source": [
        "# Select the 'petal width (cm)' feature\nselected_feature_id = 3\nselected_feature_name = iris_feature_names[selected_feature_id]\n\n# Group the data points per class\nper_class_row_mask = dict()\nfor class_index, class_name in enumerate(iris_class_names):\n    per_class_row_mask[class_name] = iris_y == class_index\n\n# Explain the 'petal width (cm)' feature per class\nper_class_explanation = dict()\nfor class_name, class_mask in per_class_row_mask.items():\n    class_array = iris_X[class_mask, selected_feature_id]\n    per_class_explanation[class_name] = fatf_dd.describe_array(class_array)\n\nprint('Per-class Data Description of each feature for class '\n      \"'{}' (class index {}):\".format(selected_feature_name,\n                                      selected_feature_id))\npprint(per_class_explanation)"
      ]
    },
    {
      "cell_type": "markdown",
      "metadata": {},
      "source": [
        "Finally, describe the class distribution.\n\n"
      ]
    },
    {
      "cell_type": "code",
      "execution_count": null,
      "metadata": {
        "collapsed": false
      },
      "outputs": [],
      "source": [
        "# Get the Data Description for the target variable\ntarget_explanation = fatf_dd.describe_categorical_array(iris_y)\n\nprint('Data Description of the target array:')\npprint(target_explanation)\n\n# Since the targer array is numerical, we can convert it to class names first\niris_y_named = np.array([iris_class_names[i] for i in iris_y])\ntarget_explanation_named = fatf_dd.describe_categorical_array(iris_y_named)\n\nprint('Data Description of the target array mapped to class names:')\npprint(target_explanation_named)"
      ]
    }
  ],
  "metadata": {
    "kernelspec": {
      "display_name": "Python 3",
      "language": "python",
      "name": "python3"
    },
    "language_info": {
      "codemirror_mode": {
        "name": "ipython",
        "version": 3
      },
      "file_extension": ".py",
      "mimetype": "text/x-python",
      "name": "python",
      "nbconvert_exporter": "python",
      "pygments_lexer": "ipython3",
      "version": "3.7.2"
    }
  },
  "nbformat": 4,
  "nbformat_minor": 0
}