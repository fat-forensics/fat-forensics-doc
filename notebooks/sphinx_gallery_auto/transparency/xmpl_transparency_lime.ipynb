{
  "cells": [
    {
      "cell_type": "code",
      "execution_count": null,
      "metadata": {
        "collapsed": false
      },
      "outputs": [],
      "source": [
        "%matplotlib inline"
      ]
    },
    {
      "cell_type": "markdown",
      "metadata": {},
      "source": [
        "\n# Using LIME Explainer\n\n\nThis example illustrates how to use the LIME tabular explainer in its generic\nform to explain a prediction.\n\nThis example shows how to use the general LIME implementation (wrapper) --\n:class:`fatf.transparency.lime.Lime`. However, the two sub-classes: one for a\nmodel (:class:`fatf.transparency.models.lime.Lime`) and one for a prediction\n(:class:`fatf.transparency.predictions.lime.Lime`) can be used in an almost\nidentical fashion to explain a model and a prediction correspondingly.\n\n"
      ]
    },
    {
      "cell_type": "code",
      "execution_count": null,
      "metadata": {
        "collapsed": false
      },
      "outputs": [],
      "source": [
        "# Author: Kacper Sokol <k.sokol@bristol.ac.uk>\n# License: new BSD\n\nfrom pprint import pprint\n\nimport fatf.utils.data.datasets as fatf_datasets\nimport fatf.utils.models as fatf_models\n\nimport fatf.transparency.lime as fatf_lime\n\nimport fatf.vis.lime as fatf_vis_lime\n\nprint(__doc__)\n\n# Load data\niris_data_dict = fatf_datasets.load_iris()\niris_X = iris_data_dict['data']\niris_y = iris_data_dict['target']\niris_feature_names = iris_data_dict['feature_names']\niris_class_names = iris_data_dict['target_names']\n\n# Train a model\nclf = fatf_models.KNN()\nclf.fit(iris_X, iris_y)\n\n# Create a LIME explainer\nlime = fatf_lime.Lime(\n    iris_X,\n    model=clf,\n    feature_names=iris_feature_names,\n    class_names=iris_class_names)\n\n# Choose an index of the instance to be explained\nindex_to_explain = 42\n\n# Explain an instance\nlime_explanation = lime.explain_instance(\n    iris_X[index_to_explain, :], num_samples=500)\n\n# Display the textual explanation\npprint(lime_explanation)\n\n# Plot the explanation\nfatf_vis_lime.plot_lime(lime_explanation)"
      ]
    }
  ],
  "metadata": {
    "kernelspec": {
      "display_name": "Python 3",
      "language": "python",
      "name": "python3"
    },
    "language_info": {
      "codemirror_mode": {
        "name": "ipython",
        "version": 3
      },
      "file_extension": ".py",
      "mimetype": "text/x-python",
      "name": "python",
      "nbconvert_exporter": "python",
      "pygments_lexer": "ipython3",
      "version": "3.6.7"
    }
  },
  "nbformat": 4,
  "nbformat_minor": 0
}