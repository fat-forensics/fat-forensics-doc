{
  "cells": [
    {
      "cell_type": "code",
      "execution_count": null,
      "metadata": {
        "collapsed": false
      },
      "outputs": [],
      "source": [
        "%matplotlib inline"
      ]
    },
    {
      "cell_type": "markdown",
      "metadata": {},
      "source": [
        "\n# Using Individual Conditional Expectation Explainer\n\n\nThis example illustrates how to use the Individual Conditional Expectation\nexplainer and its plotting function. It also shows how an ICE array can be used\nto compute Partial Dependence -- see the :func:`fatf.transparency.models.feature_influence.partial_dependence_ice` function or the\n`sphx_glr_sphinx_gallery_auto_transparency_xmpl_transparency_pd.py`\nexample.\n\n"
      ]
    },
    {
      "cell_type": "code",
      "execution_count": null,
      "metadata": {
        "collapsed": false
      },
      "outputs": [],
      "source": [
        "# Author: Kacper Sokol <k.sokol@bristol.ac.uk>\n# License: new BSD\n\nimport fatf.utils.data.datasets as fatf_datasets\nimport fatf.utils.models as fatf_models\n\nimport fatf.transparency.models.feature_influence as fatf_fi\n\nimport fatf.vis.feature_influence as fatf_vis_fi\n\nprint(__doc__)\n\n# Load data\niris_data_dict = fatf_datasets.load_iris()\niris_X = iris_data_dict['data']\niris_y = iris_data_dict['target'].astype(int)\niris_feature_names = iris_data_dict['feature_names']\niris_class_names = iris_data_dict['target_names']\n\n# Train a model\nclf = fatf_models.KNN()\nclf.fit(iris_X, iris_y)\n\n# Select a feature to be explained\nselected_feature_index = 2\nselected_feature_name = iris_feature_names[selected_feature_index]\nprint('Explaining feature (index: {}): {}.'.format(selected_feature_index,\n                                                   selected_feature_name))\n\n# Define the number of samples to be generated (granularity of the explanation)\nlinspace_samples = 25\n\n# Create an ICE explanation\nice_array, ice_linspace = fatf_fi.individual_conditional_expectation(\n    iris_X, clf, selected_feature_index, steps_number=linspace_samples)\n\n# Select class for which the explanation will be produced\nexplanation_class = 1\nexplanation_class_name = iris_class_names[explanation_class]\nprint('Explaining class (index: {}): {}.'.format(explanation_class,\n                                                 explanation_class_name))\n\n# Plot the explanation for the whole dataset for class 0\nice_plot = fatf_vis_fi.plot_individual_conditional_expectation(\n    ice_array,\n    ice_linspace,\n    explanation_class,\n    class_name=explanation_class_name,\n    feature_name=selected_feature_name)"
      ]
    },
    {
      "cell_type": "markdown",
      "metadata": {},
      "source": [
        "If you want to visualise ICE of a single data point, this can be extracted\nfrom the ICE array and plotted with the same function.\n\n"
      ]
    },
    {
      "cell_type": "code",
      "execution_count": null,
      "metadata": {
        "collapsed": false
      },
      "outputs": [],
      "source": [
        "# Select a data point to be explained\nindex_to_explain = 42\ndp_to_explain = iris_X[index_to_explain, :]\ndp_to_explain_class_index = int(iris_y[index_to_explain])\ndp_to_explain_class = iris_class_names[dp_to_explain_class_index]\n\nfeature_description_template = '    * {} (feature index {}): {:.1f}'\ndata_point_description = []\nfor i, name in enumerate(iris_feature_names):\n    dsc = feature_description_template.format(name, i, dp_to_explain[i])\n    data_point_description.append(dsc)\ndata_point_description = ',\\n'.join(data_point_description)\n\nprint('\\nExplaining data point (index {}) of class {} (class index {}) with '\n      'features:\\n{}.'.format(index_to_explain, dp_to_explain_class,\n                              dp_to_explain_class_index,\n                              data_point_description))\n\n# Extract the ICE explanation from the complete ICE array\nice_array_dp = ice_array[[index_to_explain], :, :]\n\n# Visualise the explanation of a single data point\nice_dp_plot = fatf_vis_fi.plot_individual_conditional_expectation(\n    ice_array_dp,\n    ice_linspace,\n    dp_to_explain_class_index,\n    class_name=dp_to_explain_class,\n    feature_name=selected_feature_name)"
      ]
    },
    {
      "cell_type": "markdown",
      "metadata": {},
      "source": [
        "ICE calculation is a base of Partial Dependence (:func:`fatf.transparency.\\\nmodels.feature_influence.partial_dependence_ice`). Then, Partial Dependence\ncan be plotted either as an overlay on top of the ICE plot or on its own.\n\n"
      ]
    },
    {
      "cell_type": "code",
      "execution_count": null,
      "metadata": {
        "collapsed": false
      },
      "outputs": [],
      "source": [
        "# Calculate Partial Dependence\npd_array = fatf_fi.partial_dependence_ice(ice_array)\n\n# Plot Partial Dependence on its own\npd_plot_clean = fatf_vis_fi.plot_partial_dependence(\n    pd_array,\n    ice_linspace,\n    explanation_class,\n    class_name=explanation_class_name,\n    feature_name=selected_feature_name)\n\n# Create a fresh ICE plot and add the Partial Dependence plot on top of it\nice_plot_2 = fatf_vis_fi.plot_individual_conditional_expectation(\n    ice_array,\n    ice_linspace,\n    explanation_class,\n    class_name=explanation_class_name,\n    feature_name=selected_feature_name)\nice_plot_2_figure, ice_plot_2_axis = ice_plot_2\npd_plot_overlay = fatf_vis_fi.plot_partial_dependence(\n    pd_array,\n    ice_linspace,\n    explanation_class,\n    class_name=explanation_class_name,\n    feature_name=selected_feature_name,\n    plot_axis=ice_plot_2_axis)"
      ]
    }
  ],
  "metadata": {
    "kernelspec": {
      "display_name": "Python 3",
      "language": "python",
      "name": "python3"
    },
    "language_info": {
      "codemirror_mode": {
        "name": "ipython",
        "version": 3
      },
      "file_extension": ".py",
      "mimetype": "text/x-python",
      "name": "python",
      "nbconvert_exporter": "python",
      "pygments_lexer": "ipython3",
      "version": "3.6.7"
    }
  },
  "nbformat": 4,
  "nbformat_minor": 0
}